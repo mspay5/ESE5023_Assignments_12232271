{
 "cells": [
  {
   "cell_type": "code",
   "execution_count": 4,
   "id": "7b48cc04",
   "metadata": {},
   "outputs": [
    {
     "name": "stdout",
     "output_type": "stream",
     "text": [
      "please enter your number a=: 10\n",
      "please enter your number b=: 5\n",
      "please enter your number c=: 1\n",
      "10.0 5.0 1.0 5.0\n"
     ]
    }
   ],
   "source": [
    "#流程图：将数字从大到小排序\n",
    "def print_values():\n",
    "    a=float(input(\"please enter your number a=: \"))\n",
    "    b=float(input(\"please enter your number b=: \"))\n",
    "    c=float(input(\"please enter your number c=: \"))\n",
    "#首先两两比较，取其中较小值与另一个数比较，如果大于，则可以得到按大小排序，如果不能则再进行一次比较\n",
    "    if a>b:\n",
    "        if b>c:\n",
    "            print(a,b,c,a+b-10*c)\n",
    "        else:\n",
    "            if a>c:\n",
    "                print(a,c,b,a+c-10*b)\n",
    "            else:\n",
    "                print(c,a,b,c+a-10*b)\n",
    "    else:\n",
    "        if b>c:\n",
    "            if a>c:\n",
    "                print(b,a,c,b+a-10*c)\n",
    "            else:\n",
    "                print(b,c,a,b+c-10*a)\n",
    "        else:\n",
    "             print(c,b,a,c+b-10*a)\n",
    "print_values()\n",
    "#运行结果\n",
    "#please enter your number a=: 10\n",
    "#please enter your number b=: 5\n",
    "#please enter your number c=: 1\n",
    "#10.0 5.0 1.0 5.0"
   ]
  },
  {
   "cell_type": "code",
   "execution_count": 35,
   "id": "30004446",
   "metadata": {},
   "outputs": [
    {
     "name": "stdout",
     "output_type": "stream",
     "text": [
      "Please input a list of N positive integers:12,23,45\n",
      "[12, 23, 45]\n",
      "12 37\n",
      "23 69\n",
      "45 135\n"
     ]
    }
   ],
   "source": [
    "#编写一个方程\n",
    "from  math import*\n",
    "x=input(\"Please input a list of N positive integers:\")\n",
    "#将输入的值都编入x_list中\n",
    "x_list=x.split(\",\") \n",
    "x_list=[int(x_list[i])for i in range(len(x_list))]\n",
    "print(x_list) \n",
    "#list部分借鉴袁文婷同学\n",
    "#定义F函数\n",
    "def F(z):\n",
    "    if z==1:\n",
    "        return 1\n",
    "    else:\n",
    "        return F(ceil(z/3))+2*z\n",
    "#打出所包含的数及其对应的函数值\n",
    "for m in x_list:\n",
    "    print(m,str(F(m)))\n",
    "#运行结果\n",
    "#Please input a list of N positive integers:12,23,45\n",
    "#[12, 23, 45]\n",
    "#12 37\n",
    "#23 69\n",
    "#45 135"
   ]
  },
  {
   "cell_type": "code",
   "execution_count": 6,
   "id": "dc01dd65",
   "metadata": {},
   "outputs": [
    {
     "name": "stdout",
     "output_type": "stream",
     "text": [
      "Please enter your number:12\n",
      "55\n",
      "次数最多为 4395456\n",
      "次数最多时x的值为 35\n"
     ]
    }
   ],
   "source": [
    "#骰子\n",
    "dice=[1,2,3,4,5,6]\n",
    "def Find_number_of_ways():\n",
    "    x=int(input(\"Please enter your number:\"))\n",
    "    if x<10 or x>60:\n",
    "        print(\"0\")\n",
    "    else:\n",
    "        i=0#i用来存储次数，每次有一种可以达到x值就加上1\n",
    "        for a in range(6):\n",
    "            for b in range(6):\n",
    "                for c in range(6):\n",
    "                    for d in range(6):\n",
    "                        for e in range(6):\n",
    "                            for f in range(6):\n",
    "                                for g in range(6):\n",
    "                                    for h in range(6):\n",
    "                                        for j in range(6):\n",
    "                                            for k in range(6):\n",
    "                                                if dice[a]+dice[b]+dice[c]+dice[d]+dice[e]+dice[f]+dice[g]+dice[h]+dice[j]+dice[k]==x:\n",
    "                                                    i+=1\n",
    "        print(i)\n",
    "#写一个方程，便于赋值，原理与上述一样，此方法缺点为运算量过大，需要运行很久\n",
    "def Count_number(x):\n",
    "    if x<10 or x>60:\n",
    "        print(\"0\")\n",
    "    else:\n",
    "        i=0\n",
    "        for a in range(6):\n",
    "            for b in range(6):\n",
    "                for c in range(6):\n",
    "                    for d in range(6):\n",
    "                        for e in range(6):\n",
    "                            for f in range(6):\n",
    "                                for g in range(6):\n",
    "                                    for h in range(6):\n",
    "                                        for j in range(6):\n",
    "                                            for k in range(6):\n",
    "                                                if dice[a]+dice[b]+dice[c]+dice[d]+dice[e]+dice[f]+dice[g]+dice[h]+dice[j]+dice[k]==x:\n",
    "                                                    i+=1\n",
    "        return i\n",
    "Find_number_of_ways()\n",
    "Number_of_ways=[]\n",
    "\n",
    "for x in range(10,61):\n",
    "    l=Count_number(x)\n",
    "    Number_of_ways.append(x)\n",
    "    Number_of_ways.append(l)\n",
    "#通过print，找到最大值\n",
    "print(\"次数最多为\",max(Number_of_ways))\n",
    "y=Number_of_ways.index(max(Number_of_ways))\n",
    "print(\"次数最多时x的值为\",Number_of_ways[y-1])\n",
    "#输出结果\n",
    "#Please enter your number:12\n",
    "#55\n",
    "#次数最多为 4395456\n",
    "#次数最多时x的值为 35    \n",
    "\n",
    "                                                \n",
    "        \n",
    "    \n"
   ]
  },
  {
   "cell_type": "code",
   "execution_count": 1,
   "id": "1333a212",
   "metadata": {},
   "outputs": [
    {
     "data": {
      "text/plain": [
       "5.590339147006491e+30"
      ]
     },
     "execution_count": 1,
     "metadata": {},
     "output_type": "execute_result"
    }
   ],
   "source": [
    "#随机列表\n",
    "import random\n",
    "def Random_integer(a):\n",
    "    if a<1:\n",
    "        print(\"error\")\n",
    "    else:\n",
    "        inte=[]\n",
    "        for i in range(a):\n",
    "            b=random.randint(0,10)\n",
    "            inte.append(b)\n",
    "    return(inte)\n",
    "#求列表中所有子集平均值的和\n",
    "#感谢焦小乔同学给我指出翻译错误且提供平均数的和为总值的和的排列组合倍数的思路\n",
    "def jc(x):#上10.13周四课之前不知道可以使用math中的factorial函数所以自己定义了一个阶乘函数\n",
    "    c=1\n",
    "    for i in range(x):\n",
    "        c=c*(i+1)\n",
    "    return c\n",
    "def Sum_averages(b):\n",
    "    #当有n个数时，取i个数平均数的子集的总和应该为，C(n-1,i-1)*列的总和/i\n",
    "    Number=[]\n",
    "    Number.extend(Random_integer(b))#定义一个空list将random_integer函数放入其中\n",
    "    sum_0=0 #list中求得所有数的和\n",
    "    total=jc(b-1) #a-1的阶乘\n",
    "    sum_1=[]#不同取值时的总和放入此list\n",
    "    sum_2=0#方便后续求和\n",
    "    for i in range(b):\n",
    "        sum_0=Number[i]+sum_0\n",
    "    for i in range(b):\n",
    "        if i==0:\n",
    "            sum_1.append(sum_0)\n",
    "            continue\n",
    "        elif i==b-1:\n",
    "            sum_1.append(sum_0/b)\n",
    "            break\n",
    "        else:\n",
    "            d=jc(i)#i的阶乘\n",
    "            e=jc(b-1-i)#b-1-i的阶乘\n",
    "            sum_1.append(sum_0*total/((i+1)*d*e))\n",
    "    for i in range(b):\n",
    "        sum_2+=sum_1[i]\n",
    "    return sum_2\n",
    "Sum_averages(100)\n",
    "#5.590339147006491e+30    "
   ]
  },
  {
   "cell_type": "code",
   "execution_count": 17,
   "id": "045aa31d",
   "metadata": {
    "scrolled": true
   },
   "outputs": [
    {
     "data": {
      "text/plain": [
       "<function matplotlib.pyplot.show(close=None, block=None)>"
      ]
     },
     "execution_count": 17,
     "metadata": {},
     "output_type": "execute_result"
    },
    {
     "data": {
      "image/png": "[encoded data removed]",
      "text/plain": [
       "<Figure size 432x288 with 1 Axes>"
      ]
     },
     "metadata": {
      "needs_background": "light"
     },
     "output_type": "display_data"
    }
   ],
   "source": [
    "#作图\n",
    "Total_sum_averages=[]#做y轴\n",
    "x_axis=range(1,101)#做x轴\n",
    "for i in range(1,101):\n",
    "    Total_sum_averages.append(Sum_averages(i))\n",
    "import matplotlib.pyplot as plt\n",
    "plt.plot(x_axis,Total_sum_averages)\n",
    "plt.xlabel(\"Number\")#x轴名字\n",
    "plt.ylabel(\"Total_sum_averages\")#y轴名字\n",
    "plt.title(\"Plot\")#表头\n",
    "plt.show\n",
    "#图为一个指数函数前面几乎是平的后续接近100时斜率非常大接近直线上升"
   ]
  },
  {
   "cell_type": "code",
   "execution_count": 2,
   "id": "d4b9b3a6",
   "metadata": {},
   "outputs": [
    {
     "name": "stdout",
     "output_type": "stream",
     "text": [
      "[0, 0, 0, 0, 0, 0, 0, 0, 0, 0, 0, 0, 0, 0, 0, 0, 0, 0, 0, 0, 0, 0, 0, 0, 0, 0, 0, 0, 0, 0, 0, 0, 0, 0, 0, 0, 0, 0, 0, 0, 0, 0, 0, 0, 0, 0, 0, 0, 0, 0, 0, 0, 0, 0, 0, 0, 0, 0, 0, 0, 0, 0, 0, 0, 0, 0, 0, 1, 0, 1, 0, 0, 0, 0, 0, 0, 0, 1, 0, 0, 0, 0, 0, 0, 0, 0, 1, 0, 0, 0, 0, 0, 0, 0, 0, 0, 0, 0, 0, 0, 0, 0, 0, 1, 0, 0, 0, 0, 0, 1, 0, 0, 0, 0, 0, 1, 0, 0, 0, 0, 0, 0, 0, 0, 0, 0, 0, 0, 0, 0, 0, 0, 0, 0, 0, 0, 0, 0, 0, 0, 1, 0, 0, 0, 0, 0, 0, 0, 0, 0, 0, 0, 0, 0, 0, 0, 0, 0, 0, 0, 0, 0, 0, 0, 0, 0, 0, 0, 0, 0, 0, 0, 0, 0, 0, 0, 0, 0, 0, 0, 0, 0, 0, 0, 0, 0, 0, 0, 0, 0, 0, 0, 0, 0, 0, 0, 0, 0, 0, 0, 0, 0, 0, 0, 0, 0, 0, 0, 0, 0, 0, 0, 1, 0, 0, 0, 0, 0, 0, 0, 0, 0, 0, 0, 0, 0, 0, 0, 0, 0, 0, 0, 0, 0, 0, 0, 0, 0, 0, 0, 0, 0, 0, 0, 0, 0, 0, 0, 0, 0, 0, 0, 0, 0, 0, 0, 0, 0, 0, 0, 0, 0, 0, 0, 0, 0, 0, 0, 0, 0, 0, 0, 0, 0, 0, 0, 0, 0, 0, 0, 0, 0, 0, 0, 0, 0, 0, 0, 0, 0, 0, 0, 0, 0, 0, 0, 0, 0, 0, 0, 0, 0, 0, 0, 0, 0, 0, 0, 0, 0, 0, 0, 0, 0, 0, 0, 0, 0, 0, 0, 0, 0, 0, 1, 0, 0, 0, 0, 0, 0, 0, 0, 0, 0, 0, 0, 0, 0, 0, 0, 0, 0, 0, 0, 0, 0, 0, 0, 0, 0, 0, 0, 0, 0, 1, 0, 0, 0, 0, 0, 0, 0, 0, 0, 0, 0, 0, 0, 0, 0, 0, 0, 0, 0, 0, 0, 0, 0, 0, 0, 0, 0, 0, 0, 1, 0, 0, 0, 0, 0, 0, 0, 0, 0, 0, 0, 0, 0, 0, 0, 1, 0, 0, 0, 0, 0, 0, 0, 0, 0, 0, 0, 0, 0, 0, 0, 0, 0, 1, 0, 0, 0, 0, 0, 0, 0, 0, 0, 0, 0, 0, 0, 0, 0, 0, 0, 0, 0, 0, 0, 0, 0, 0, 0, 0, 0, 0, 0, 0, 0, 0, 0, 0, 0, 0, 0, 0, 0, 0, 0, 0, 0, 0, 0, 0, 0, 0, 0, 0, 0, 0, 0, 0, 0, 0, 0, 0, 0, 0, 0, 0, 0, 0, 0, 0, 0, 1, 0, 0, 0, 0, 0, 0, 0, 0, 0, 0, 0, 0, 0, 1, 0, 0, 0, 0, 0, 0, 0, 0, 0, 0, 0, 0, 0, 0, 0, 0, 1, 0, 0, 0, 0, 0, 0, 0, 0, 0, 0, 0, 0, 0, 0, 0, 0, 0, 0, 0, 0, 0, 0, 0, 0, 0, 0, 0, 0, 0, 0, 0, 0, 0, 0, 0, 0, 1, 0, 0, 0, 0, 0, 0, 0, 0, 0, 0, 0, 0, 0, 0, 0, 0, 0, 0, 0, 0, 0, 0, 0, 0, 0, 0, 0, 0, 0, 0, 0, 0, 0, 0, 0, 0, 0, 0, 0, 0, 0, 0, 0, 0, 0, 0, 0, 0, 1, 0, 0, 0, 0, 0, 0, 0, 0, 0, 0, 1, 0, 0, 0, 0, 0, 0, 0, 0, 0, 0, 0, 0, 0, 0, 0, 0, 0, 0, 0, 0, 0, 0, 0, 0, 0, 0, 0, 0, 0, 0, 0, 0, 0, 0, 0, 0, 0, 0, 0, 0, 0, 0, 0, 0, 0, 0, 0, 0, 0, 0, 0, 0, 0, 0, 0, 0, 0, 0, 0, 0, 0, 0, 1, 0, 0, 0, 0, 0, 0, 0, 0, 0, 0, 0, 0, 0, 0, 0, 0, 0, 0, 0, 0, 0, 0, 0, 0, 0, 0, 0, 0, 0, 0, 0, 0, 0, 0, 0, 0, 0, 0, 0, 0, 0, 0, 0, 0, 0, 0, 0, 0, 0, 0, 0, 0, 0, 0, 0, 0, 0, 0, 0, 0, 0, 0, 0, 0, 0, 0, 0, 0, 0, 0, 0, 0, 0, 0, 0, 0, 0, 0, 0, 0, 0, 0, 0, 0, 0, 0, 0, 0, 0, 0, 0, 0, 0, 0, 0, 0, 0, 0, 0, 0, 0, 0, 0, 0, 1, 0, 0, 0, 0, 0, 0, 0, 0, 0, 0, 0, 1, 0, 0, 0, 0, 0, 0, 0, 0, 0, 0, 0, 0, 0, 0, 0, 0, 0, 0, 1, 0, 0, 0, 0, 0, 0, 0, 0, 0, 0, 0, 0, 0, 0, 0, 0, 0, 0, 0, 0, 0, 0, 0, 0, 0, 0, 0, 0, 0, 0, 0, 0, 0, 0, 0, 0, 0, 0, 0, 0, 0, 0, 0, 0, 0, 0, 0, 0, 0, 0, 0, 0, 0, 0, 0, 0, 0, 0, 0, 0, 0, 0, 0, 0, 0, 0, 0, 0, 0, 0, 0, 0, 0, 0, 0, 0, 0, 0, 0, 0, 0, 0, 0, 0, 0, 0, 0, 0, 0, 0, 0, 0, 0, 0, 0, 0, 0, 0, 0, 0, 0, 0, 0, 0, 0, 0, 0, 0, 0, 0, 0, 0, 0, 0, 0, 0, 0, 0, 1, 0, 0, 0, 0, 0, 0, 0, 0, 0, 0, 0, 0, 0, 0, 0, 0, 0, 0, 0, 0, 0, 0, 0, 0, 0, 0, 0, 0, 0, 0, 0, 0, 0, 0, 0, 0, 0, 0, 0, 0, 0, 0, 0, 0, 0, 0, 0, 0, 0, 0, 0, 0, 0, 0, 0, 0, 0, 0, 0, 0, 0, 0, 0, 0, 0, 1, 0]\n",
      "0.026\n"
     ]
    }
   ],
   "source": [
    "#创建一个矩阵\n",
    "import numpy as np\n",
    "import random\n",
    "def Creat_array(N,M):\n",
    "    arr0=np.random.randint(0,2,N*M)\n",
    "    arr2=arr0.reshape(N,M)\n",
    "    arr2[[0,N-1],[0,M-1]]=1\n",
    "    return(arr2)\n",
    "#矩阵迷宫\n",
    "#参考https://www.geeksforgeeks.org/count-number-ways-reach-destination-maze/\n",
    "def Count_path(N,M):\n",
    "    arr1=Creat_array(N,M)\n",
    "#倒置0和1，方便计算总数，如果产生一条路径，就能将这条路径的1值带到arr1[N-1,M-1]上视为一条路径\n",
    "    arr1=np.where(arr1==0,-1,arr1)\n",
    "    arr1=np.where(arr1==1,0,arr1)\n",
    "    for i in range (N):\n",
    "        if arr1[i,0]==0:\n",
    "            arr1[i,0]=1#将与arr1[0，0]相连的可行的ceil全部变为1视为起始点\n",
    "        else:\n",
    "            break\n",
    "    for i in range(1,M):\n",
    "        if arr1[0,i]==0:\n",
    "            arr1[0,i]=1#与上述同理\n",
    "        else:\n",
    "            break\n",
    "    for i in range(1,N):\n",
    "        for j in range(1,M):\n",
    "            if arr1[i,j]==-1:#不能移动的ceil就找下一块找到可以移动的ceil查看其左边以及上边的ceil是否可以移动\n",
    "                continue\n",
    "            elif arr1[i,j-1]>0:\n",
    "                arr1[i,j]=arr1[i,j-1]+arr1[i,j]#当可以移动时寻找有上边ceil可以达到这个ceil\n",
    "            elif arr1[i-1,j]>0:\n",
    "                arr1[i,j]=arr1[i-1,j]+arr1[i,j]#当可以移动时寻找有坐边ceil可以达到这个ceil\n",
    "                #即每次可以存储有几条路径达到这个ceil，当下次有两条路径时可以将这个值乘以2，达到一个存储的目的\n",
    "    return arr1[N-1,M-1]\n",
    "#求路径总数的平均值\n",
    "Average_path=[]#存1000个迷宫路径的list\n",
    "sum_0=0\n",
    "for i in range(1000):\n",
    "    Average_path.append(Count_path(10,8))\n",
    "print(Average_path)\n",
    "for i in range(1000):\n",
    "    sum_0=Average_path[i]+sum_0\n",
    "Average=sum_0/1000\n",
    "print(Average)\n",
    "#运算结果\n",
    "#[0, 0, 0, 0, 0, 0, 0, 0, 0, 0, 0, 0, 0, 0, 0, 0, 0, 0, 0, 0, 0, 0, 0, 0, 0, 0, 0, 0, 0, 0, 0, 0, 0, 0, 0, 0, 0, 0, 0, 0, 0, 0, 0, 0, 0, 0, 0, 0, 0, 0, 0, 0, 0, 0, 0, 0, 0, 0, 0, 0, 0, 0, 0, 0, 0, 0, 0, 1, 0, 1, 0, 0, 0, 0, 0, 0, 0, 1, 0, 0, 0, 0, 0, 0, 0, 0, 1, 0, 0, 0, 0, 0, 0, 0, 0, 0, 0, 0, 0, 0, 0, 0, 0, 1, 0, 0, 0, 0, 0, 1, 0, 0, 0, 0, 0, 1, 0, 0, 0, 0, 0, 0, 0, 0, 0, 0, 0, 0, 0, 0, 0, 0, 0, 0, 0, 0, 0, 0, 0, 0, 1, 0, 0, 0, 0, 0, 0, 0, 0, 0, 0, 0, 0, 0, 0, 0, 0, 0, 0, 0, 0, 0, 0, 0, 0, 0, 0, 0, 0, 0, 0, 0, 0, 0, 0, 0, 0, 0, 0, 0, 0, 0, 0, 0, 0, 0, 0, 0, 0, 0, 0, 0, 0, 0, 0, 0, 0, 0, 0, 0, 0, 0, 0, 0, 0, 0, 0, 0, 0, 0, 0, 0, 1, 0, 0, 0, 0, 0, 0, 0, 0, 0, 0, 0, 0, 0, 0, 0, 0, 0, 0, 0, 0, 0, 0, 0, 0, 0, 0, 0, 0, 0, 0, 0, 0, 0, 0, 0, 0, 0, 0, 0, 0, 0, 0, 0, 0, 0, 0, 0, 0, 0, 0, 0, 0, 0, 0, 0, 0, 0, 0, 0, 0, 0, 0, 0, 0, 0, 0, 0, 0, 0, 0, 0, 0, 0, 0, 0, 0, 0, 0, 0, 0, 0, 0, 0, 0, 0, 0, 0, 0, 0, 0, 0, 0, 0, 0, 0, 0, 0, 0, 0, 0, 0, 0, 0, 0, 0, 0, 0, 0, 0, 0, 1, 0, 0, 0, 0, 0, 0, 0, 0, 0, 0, 0, 0, 0, 0, 0, 0, 0, 0, 0, 0, 0, 0, 0, 0, 0, 0, 0, 0, 0, 0, 1, 0, 0, 0, 0, 0, 0, 0, 0, 0, 0, 0, 0, 0, 0, 0, 0, 0, 0, 0, 0, 0, 0, 0, 0, 0, 0, 0, 0, 0, 1, 0, 0, 0, 0, 0, 0, 0, 0, 0, 0, 0, 0, 0, 0, 0, 1, 0, 0, 0, 0, 0, 0, 0, 0, 0, 0, 0, 0, 0, 0, 0, 0, 0, 1, 0, 0, 0, 0, 0, 0, 0, 0, 0, 0, 0, 0, 0, 0, 0, 0, 0, 0, 0, 0, 0, 0, 0, 0, 0, 0, 0, 0, 0, 0, 0, 0, 0, 0, 0, 0, 0, 0, 0, 0, 0, 0, 0, 0, 0, 0, 0, 0, 0, 0, 0, 0, 0, 0, 0, 0, 0, 0, 0, 0, 0, 0, 0, 0, 0, 0, 0, 1, 0, 0, 0, 0, 0, 0, 0, 0, 0, 0, 0, 0, 0, 1, 0, 0, 0, 0, 0, 0, 0, 0, 0, 0, 0, 0, 0, 0, 0, 0, 1, 0, 0, 0, 0, 0, 0, 0, 0, 0, 0, 0, 0, 0, 0, 0, 0, 0, 0, 0, 0, 0, 0, 0, 0, 0, 0, 0, 0, 0, 0, 0, 0, 0, 0, 0, 0, 1, 0, 0, 0, 0, 0, 0, 0, 0, 0, 0, 0, 0, 0, 0, 0, 0, 0, 0, 0, 0, 0, 0, 0, 0, 0, 0, 0, 0, 0, 0, 0, 0, 0, 0, 0, 0, 0, 0, 0, 0, 0, 0, 0, 0, 0, 0, 0, 0, 1, 0, 0, 0, 0, 0, 0, 0, 0, 0, 0, 1, 0, 0, 0, 0, 0, 0, 0, 0, 0, 0, 0, 0, 0, 0, 0, 0, 0, 0, 0, 0, 0, 0, 0, 0, 0, 0, 0, 0, 0, 0, 0, 0, 0, 0, 0, 0, 0, 0, 0, 0, 0, 0, 0, 0, 0, 0, 0, 0, 0, 0, 0, 0, 0, 0, 0, 0, 0, 0, 0, 0, 0, 0, 1, 0, 0, 0, 0, 0, 0, 0, 0, 0, 0, 0, 0, 0, 0, 0, 0, 0, 0, 0, 0, 0, 0, 0, 0, 0, 0, 0, 0, 0, 0, 0, 0, 0, 0, 0, 0, 0, 0, 0, 0, 0, 0, 0, 0, 0, 0, 0, 0, 0, 0, 0, 0, 0, 0, 0, 0, 0, 0, 0, 0, 0, 0, 0, 0, 0, 0, 0, 0, 0, 0, 0, 0, 0, 0, 0, 0, 0, 0, 0, 0, 0, 0, 0, 0, 0, 0, 0, 0, 0, 0, 0, 0, 0, 0, 0, 0, 0, 0, 0, 0, 0, 0, 0, 0, 1, 0, 0, 0, 0, 0, 0, 0, 0, 0, 0, 0, 1, 0, 0, 0, 0, 0, 0, 0, 0, 0, 0, 0, 0, 0, 0, 0, 0, 0, 0, 1, 0, 0, 0, 0, 0, 0, 0, 0, 0, 0, 0, 0, 0, 0, 0, 0, 0, 0, 0, 0, 0, 0, 0, 0, 0, 0, 0, 0, 0, 0, 0, 0, 0, 0, 0, 0, 0, 0, 0, 0, 0, 0, 0, 0, 0, 0, 0, 0, 0, 0, 0, 0, 0, 0, 0, 0, 0, 0, 0, 0, 0, 0, 0, 0, 0, 0, 0, 0, 0, 0, 0, 0, 0, 0, 0, 0, 0, 0, 0, 0, 0, 0, 0, 0, 0, 0, 0, 0, 0, 0, 0, 0, 0, 0, 0, 0, 0, 0, 0, 0, 0, 0, 0, 0, 0, 0, 0, 0, 0, 0, 0, 0, 0, 0, 0, 0, 0, 0, 1, 0, 0, 0, 0, 0, 0, 0, 0, 0, 0, 0, 0, 0, 0, 0, 0, 0, 0, 0, 0, 0, 0, 0, 0, 0, 0, 0, 0, 0, 0, 0, 0, 0, 0, 0, 0, 0, 0, 0, 0, 0, 0, 0, 0, 0, 0, 0, 0, 0, 0, 0, 0, 0, 0, 0, 0, 0, 0, 0, 0, 0, 0, 0, 0, 0, 1, 0]\n",
    "#0.026"
   ]
  },
  {
   "cell_type": "code",
   "execution_count": null,
   "id": "2d1427ba",
   "metadata": {},
   "outputs": [],
   "source": []
  }
 ],
 "metadata": {
  "kernelspec": {
   "display_name": "Python 3 (ipykernel)",
   "language": "python",
   "name": "python3"
  },
  "language_info": {
   "codemirror_mode": {
    "name": "ipython",
    "version": 3
   },
   "file_extension": ".py",
   "mimetype": "text/x-python",
   "name": "python",
   "nbconvert_exporter": "python",
   "pygments_lexer": "ipython3",
   "version": "3.9.12"
  }
 },
 "nbformat": 4,
 "nbformat_minor": 5
}
